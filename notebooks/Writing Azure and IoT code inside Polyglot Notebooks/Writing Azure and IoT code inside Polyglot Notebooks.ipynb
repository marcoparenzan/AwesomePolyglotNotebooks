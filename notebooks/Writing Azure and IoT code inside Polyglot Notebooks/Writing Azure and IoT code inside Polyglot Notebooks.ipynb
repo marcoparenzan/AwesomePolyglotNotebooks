{
 "cells": [
  {
   "cell_type": "markdown",
   "metadata": {},
   "source": [
    "# Writing Azure and IoT code inside Polyglot Notebooks"
   ]
  },
  {
   "cell_type": "markdown",
   "metadata": {},
   "source": [
    "Do you know you can sketch and test Azure operations and IoT code using Polyglot Notebooks? Let's see how to do that in this video."
   ]
  },
  {
   "cell_type": "code",
   "execution_count": 1,
   "id": "e0369eab",
   "metadata": {
    "dotnet_interactive": {
     "language": "html"
    },
    "polyglot_notebook": {
     "kernelName": "html"
    },
    "vscode": {
     "languageId": "polyglot-notebook"
    }
   },
   "outputs": [
    {
     "data": {
      "text/html": [
       "<img src=\"Slides\\slide1.png\"/>"
      ]
     },
     "metadata": {},
     "output_type": "display_data"
    }
   ],
   "source": [
    "<img src=\"https://github.com/marcoparenzan/AwesomePolyglotNotebooks/blob/main/notebooks/Writing%20Azure%20and%20IoT%20code%20inside%20Polyglot%20Notebooks/Slides/Slide1.PNG\"/>"
   ]
  },
  {
   "cell_type": "markdown",
   "metadata": {},
   "source": [
    "As a developer, I do most of my job inside Microsoft Visual Studio, mainly for product development or customer projects.\n",
    "I use it also for sketching code during study sessions. The introduction in C# 9 of top level statements has simplified a lot my job without the need of writing boilerplate class code, when not really needed. But I cannot avoid the classic edit-compile-run-debug-edit cycle.\n",
    "So here comes the dotnet Polyglot Notebooks where I can really sketch the code with fast and easy edit/run cycles.\n",
    "Besides that, when I need to do operations, like creating Azure resources, I have the same need, sketching and trying Azure CLI or PowerShell commands, annotating parameters, failing and correcting commands more and more time.\n",
    "Polyglot Notebooks can satisfy both these needs. Let's see how to do that in this video using Azure IoT as a scenario: creating the required Azure resources and writing some csharp code to send messages to the cloud."
   ]
  },
  {
   "attachments": {},
   "cell_type": "markdown",
   "metadata": {},
   "source": [
    "Let's begin with operations in Azure and I will use Azure CLI inside PowerShell cells. I need to connect to my Azure subscription, so I can create Azure resources, mainly a Resource Group and an IoT Hub instance. Before doing that, two steps are necessary. First let's login to Azure. This will require to switch to the browser and login interactively at the Azure AD prompt."
   ]
  },
  {
   "cell_type": "code",
   "execution_count": null,
   "id": "e56f3feb",
   "metadata": {
    "dotnet_interactive": {
     "language": "pwsh"
    },
    "polyglot_notebook": {
     "kernelName": "pwsh"
    },
    "vscode": {
     "languageId": "polyglot-notebook"
    }
   },
   "outputs": [],
   "source": [
    "az login --output table"
   ]
  },
  {
   "cell_type": "markdown",
   "metadata": {},
   "source": [
    "Then we need to ensure that you are using the correct subscription if you own or you have access to several subscriptions. The previous command will list all the available subs you can select, directly via string name."
   ]
  },
  {
   "cell_type": "code",
   "execution_count": null,
   "id": "28c825f6",
   "metadata": {
    "dotnet_interactive": {
     "language": "pwsh"
    },
    "polyglot_notebook": {
     "kernelName": "pwsh"
    },
    "vscode": {
     "languageId": "polyglot-notebook"
    }
   },
   "outputs": [],
   "source": [
    "az account set --subscription \"Visual Studio Ultimate with MSDN\""
   ]
  },
  {
   "attachments": {},
   "cell_type": "markdown",
   "metadata": {},
   "source": [
    "Now that you are logged in correctly, you can start creating the resources we need. We begin with the resource group and I assign it \"awesomepolyglotnotebooks\" as a name. I use westeurope as a location, but you can obviously choose the location you prefer and that it is useful for your business. The resource group is a logical resource to contain specific instances, but it is a good practice to locate the resource group in the same region the resources contained are deployed. So with AZ CLI I create the resource group."
   ]
  },
  {
   "cell_type": "code",
   "execution_count": null,
   "id": "00f623af",
   "metadata": {
    "dotnet_interactive": {
     "language": "pwsh"
    },
    "polyglot_notebook": {
     "kernelName": "pwsh"
    },
    "vscode": {
     "languageId": "polyglot-notebook"
    }
   },
   "outputs": [],
   "source": [
    "az group create --location westeurope --name awesomepolyglotnotebooks"
   ]
  },
  {
   "attachments": {},
   "cell_type": "markdown",
   "metadata": {},
   "source": [
    "Now I can create the Azure IoT Hub instance inside the resource group yet created. For convenience I assign the IoT Hub resource the same name as resource group, but you can obviously choose the name you prefer or need. As already told, the location is the same as the resource group, so westeurope again."
   ]
  },
  {
   "cell_type": "code",
   "execution_count": null,
   "id": "47931000",
   "metadata": {
    "dotnet_interactive": {
     "language": "pwsh"
    },
    "polyglot_notebook": {
     "kernelName": "pwsh"
    },
    "vscode": {
     "languageId": "polyglot-notebook"
    }
   },
   "outputs": [],
   "source": [
    "az iot hub create --resource-group awesomepolyglotnotebooks --name awesomepolyglotnotebooks --location westeurope"
   ]
  },
  {
   "attachments": {},
   "cell_type": "markdown",
   "id": "ed8948ec",
   "metadata": {},
   "source": [
    "Now I can create my first device, which I name it as testdevice, with shared secret as the authentication method, and added to the hub previously created."
   ]
  },
  {
   "cell_type": "code",
   "execution_count": null,
   "id": "4288219e",
   "metadata": {
    "dotnet_interactive": {
     "language": "pwsh"
    },
    "polyglot_notebook": {
     "kernelName": "pwsh"
    },
    "vscode": {
     "languageId": "polyglot-notebook"
    }
   },
   "outputs": [],
   "source": [
    "az iot hub device-identity create --device-id testdevice --auth-method shared_private_key --hub-name awesomepolyglotnotebooks"
   ]
  },
  {
   "attachments": {},
   "cell_type": "markdown",
   "id": "6b4aa543",
   "metadata": {},
   "source": [
    "As a result, I have all the information about the new device. What are important here the primary and the secondary keys that allow the device to communicate with the IoT Hub instance. But with the keys is only a little unconfortable. A connection string is much more easy for most of the cases. So with the following command I can obtain it directly."
   ]
  },
  {
   "cell_type": "code",
   "execution_count": null,
   "id": "840aa935",
   "metadata": {
    "dotnet_interactive": {
     "language": "pwsh"
    },
    "polyglot_notebook": {
     "kernelName": "pwsh"
    },
    "vscode": {
     "languageId": "polyglot-notebook"
    }
   },
   "outputs": [],
   "source": [
    "az iot hub device-identity connection-string show  --device-id testdevice --hub-name awesomepolyglotnotebooks"
   ]
  },
  {
   "attachments": {},
   "cell_type": "markdown",
   "id": "37e43303",
   "metadata": {},
   "source": [
    "All the Azure resources are ready: so we can start sketching some device code. Let's begin with the fundamental Nuget package to do the job: Microsoft.Azure.Devices.Client. So we can type the following code in a csharp shell to refer to the IoT class library."
   ]
  },
  {
   "cell_type": "code",
   "execution_count": null,
   "metadata": {
    "dotnet_interactive": {
     "language": "csharp"
    },
    "polyglot_notebook": {
     "kernelName": "csharp"
    },
    "vscode": {
     "languageId": "polyglot-notebook"
    }
   },
   "outputs": [],
   "source": [
    "#r \"nuget:Microsoft.Azure.Devices.Client\""
   ]
  },
  {
   "attachments": {},
   "cell_type": "markdown",
   "id": "3efc113c",
   "metadata": {},
   "source": [
    "The first time launching the ref command is always long to download and install, but after the time to finish decrease because the package will be already loaded from the local cache of the hosting pc. To refer to the classes inside the package, I need to specify the namespace:"
   ]
  },
  {
   "cell_type": "code",
   "execution_count": null,
   "metadata": {
    "dotnet_interactive": {
     "language": "csharp"
    },
    "polyglot_notebook": {
     "kernelName": "csharp"
    },
    "vscode": {
     "languageId": "polyglot-notebook"
    }
   },
   "outputs": [],
   "source": [
    "using Microsoft.Azure.Devices.Client;"
   ]
  },
  {
   "attachments": {},
   "cell_type": "markdown",
   "id": "e772bdc3",
   "metadata": {},
   "source": [
    "Now I'm able to begin coding. In sequence, first I store the connection string in a variable."
   ]
  },
  {
   "cell_type": "code",
   "execution_count": null,
   "metadata": {
    "dotnet_interactive": {
     "language": "csharp"
    },
    "polyglot_notebook": {
     "kernelName": "csharp"
    },
    "vscode": {
     "languageId": "polyglot-notebook"
    }
   },
   "outputs": [],
   "source": [
    "var connectionString = \"\";"
   ]
  },
  {
   "attachments": {},
   "cell_type": "markdown",
   "id": "2203a8ab",
   "metadata": {},
   "source": [
    "Remember that the connection string to use is the one discovered before in the code.\n",
    "Now I can include some namespaces, System.IO, System.Text.Json and System.Text to handle strings in the code and files:"
   ]
  },
  {
   "cell_type": "code",
   "execution_count": null,
   "metadata": {
    "dotnet_interactive": {
     "language": "csharp"
    },
    "polyglot_notebook": {
     "kernelName": "csharp"
    },
    "vscode": {
     "languageId": "polyglot-notebook"
    }
   },
   "outputs": [],
   "source": [
    "using System.IO;\n",
    "using System.Text;\n",
    "using System.Text.Json;"
   ]
  },
  {
   "attachments": {},
   "cell_type": "markdown",
   "id": "694d0d8c",
   "metadata": {},
   "source": [
    "Now I can define the deviceClient object that is the proxy object to Azure IoT Hub. I can configure the object from a static method of the DeviceClient type that configure the object with a connection string:"
   ]
  },
  {
   "cell_type": "code",
   "execution_count": null,
   "metadata": {
    "dotnet_interactive": {
     "language": "csharp"
    },
    "polyglot_notebook": {
     "kernelName": "csharp"
    },
    "vscode": {
     "languageId": "polyglot-notebook"
    }
   },
   "outputs": [],
   "source": [
    "var deviceClient = DeviceClient.FromConnectionString(connectionString);"
   ]
  },
  {
   "attachments": {},
   "cell_type": "markdown",
   "id": "abcdbe2c",
   "metadata": {},
   "source": [
    "As I want to send some data, as in this demo I don't havusee a real device, I can use a sample log to read and generate the payloads. So let's begin writing some code to parse a csv file I have, the sampledata.csv file, and read the data using the System.IO package. What I want to do is reading the entire file as a string, then split the info among rows and columns. "
   ]
  },
  {
   "cell_type": "code",
   "execution_count": null,
   "id": "24434404",
   "metadata": {
    "vscode": {
     "languageId": "polyglot-notebook"
    }
   },
   "outputs": [],
   "source": [
    "var samples = File.ReadAllText(\"sampledata.csv\").Split('\\r').Select(xx => xx.Split(',').ToArray();"
   ]
  },
  {
   "attachments": {},
   "cell_type": "markdown",
   "id": "2fe59fd0",
   "metadata": {},
   "source": [
    "As there is an header row, but I know it, I skip the first row."
   ]
  },
  {
   "cell_type": "code",
   "execution_count": null,
   "id": "9264f949",
   "metadata": {
    "vscode": {
     "languageId": "polyglot-notebook"
    }
   },
   "outputs": [],
   "source": [
    "samples = samples.Skip(1).ToArray();"
   ]
  },
  {
   "attachments": {},
   "cell_type": "markdown",
   "id": "4e48e757",
   "metadata": {},
   "source": [
    "What I know now, is that not using the timestamp written in the file, but reusing only the value measured, a temperature, I can select the 5th element on each line."
   ]
  },
  {
   "cell_type": "code",
   "execution_count": null,
   "id": "a378f9c9",
   "metadata": {
    "vscode": {
     "languageId": "polyglot-notebook"
    }
   },
   "outputs": [],
   "source": [
    "var sample = samples[0];\n",
    "sample[5]"
   ]
  },
  {
   "attachments": {},
   "cell_type": "markdown",
   "id": "d829c9cf",
   "metadata": {},
   "source": [
    "So now I can compose the payload, serialize as Json, convert to a byte array. This is necessary because the Message object that comes from the Client library, require a payload expressed as a byte array to be sent to IoT Hub. So we can type the following code."
   ]
  },
  {
   "cell_type": "code",
   "execution_count": null,
   "id": "d31e4742",
   "metadata": {
    "vscode": {
     "languageId": "polyglot-notebook"
    }
   },
   "outputs": [],
   "source": [
    "var payload = new \n",
    "{\n",
    "    Timestamp = DateTimeOffet.Now,\n",
    "    Value = double.Parse(sample[5])\n",
    "};\n",
    "var payloadJson = JsonSerializer.Serialize(payload);\n",
    "var payloadBytes = Encoding.UTF8.GetString(payloadJson);\n",
    "var message = new Message(payloadBytes);"
   ]
  },
  {
   "attachments": {},
   "cell_type": "markdown",
   "id": "244fbcfd",
   "metadata": {},
   "source": [
    "Now we have a message we can send. So we can invoke the SendEventAsync on the client object."
   ]
  },
  {
   "cell_type": "code",
   "execution_count": null,
   "id": "733e38e6",
   "metadata": {
    "vscode": {
     "languageId": "polyglot-notebook"
    }
   },
   "outputs": [],
   "source": [
    "await deviceClient.SendEventAsync(message);"
   ]
  },
  {
   "attachments": {},
   "cell_type": "markdown",
   "id": "d3100484",
   "metadata": {},
   "source": [
    "For debugging purposes, and looking at some feedback from the code, we can log on the screen the json payload, for example. We can use the display object. Before foreach loop we can add the following line:"
   ]
  },
  {
   "cell_type": "code",
   "execution_count": null,
   "id": "ef2629eb",
   "metadata": {
    "vscode": {
     "languageId": "polyglot-notebook"
    }
   },
   "outputs": [],
   "source": [
    "var log = display(\"log goes here\");"
   ]
  },
  {
   "attachments": {},
   "cell_type": "markdown",
   "id": "4d87ad1b",
   "metadata": {},
   "source": [
    "This code returns an object that represents the area under the cell it is executed. When updated, invoking the Update method, the new string message is replaced and visualized under the cell."
   ]
  },
  {
   "cell_type": "code",
   "execution_count": null,
   "id": "a09aa704",
   "metadata": {
    "vscode": {
     "languageId": "polyglot-notebook"
    }
   },
   "outputs": [],
   "source": [
    "log.Update(payloadJson);"
   ]
  },
  {
   "attachments": {},
   "cell_type": "markdown",
   "id": "df6bff34",
   "metadata": {},
   "source": [
    "And because the loop can be quite fast, we can slow down the code with a Delay instruction. Two seconds can be enough."
   ]
  },
  {
   "cell_type": "code",
   "execution_count": null,
   "id": "9176a699",
   "metadata": {
    "vscode": {
     "languageId": "polyglot-notebook"
    }
   },
   "outputs": [],
   "source": [
    "await Task.Delay(2000);"
   ]
  },
  {
   "attachments": {},
   "cell_type": "markdown",
   "id": "ee8f13c0",
   "metadata": {},
   "source": [
    "So let's recap all the steps putting them inside a single loop over all the samples."
   ]
  },
  {
   "cell_type": "code",
   "execution_count": null,
   "id": "e7ba2f9b",
   "metadata": {
    "vscode": {
     "languageId": "polyglot-notebook"
    }
   },
   "outputs": [],
   "source": [
    "var log = display(\"log goes here\");\n",
    "foreach(var sample in samples)\n",
    "{\n",
    "    var payload = new \n",
    "    {\n",
    "        Timestamp = DateTimeOffet.Now,\n",
    "        Value = double.Parse(sample[5])\n",
    "    };\n",
    "    var payloadJson = JsonSerializer.Serialize(payload);\n",
    "    var payloadBytes = Encoding.UTF8.GetString(payloadJson);\n",
    "    var message = new Message(payloadBytes);\n",
    "    await deviceClient.SendEventAsync(message);\n",
    "    log.Update(payloadJson);\n",
    "    await Task.Delay(2000);\n",
    "}"
   ]
  },
  {
   "attachments": {},
   "cell_type": "markdown",
   "id": "1a8d398f",
   "metadata": {},
   "source": [
    "Great. So the code now is running and we receive the feedback with the payload that are sent. One thing is important to know. Until the code is running inside the loop, the cell is still executing, so we see that the cell is running and now other code can be executed. Consider this way of working as demo/testing code, as this notebook is and no production code. At any time, a running cell can be interrupted pressing on the square button, that syncronously stop the cell."
   ]
  },
  {
   "attachments": {},
   "cell_type": "markdown",
   "id": "f5e3f81e",
   "metadata": {},
   "source": [
    "So we are reaching the end of the demo, as the events are sent. But one question. Can we check if the messages are correctly received? Yes we can, with the same advice we have just told. We can run some code that remain indefinetly waiting for events, so we have some blocking code inside a cell. For this reason, we can open a new notebook and run a command. We can use again AZ CLI for that. There is a command that can monitor events from a device. We can type the following code in a PowerShell cell in a new Notebook."
   ]
  },
  {
   "cell_type": "code",
   "execution_count": null,
   "metadata": {
    "dotnet_interactive": {
     "language": "pwsh"
    },
    "polyglot_notebook": {
     "kernelName": "pwsh"
    },
    "vscode": {
     "languageId": "polyglot-notebook"
    }
   },
   "outputs": [],
   "source": [
    "az iot monitor-events --hub-name awesomepolyglotnotebooks --device-id testdevice"
   ]
  },
  {
   "attachments": {},
   "cell_type": "markdown",
   "id": "294216ad",
   "metadata": {},
   "source": [
    "So we see that inside the running cell, the output shows that events are arriving. So this ends this demo. Remember to stop the cell so the command interrupts and you can continue to type code in cells."
   ]
  },
  {
   "attachments": {},
   "cell_type": "markdown",
   "id": "01e028ed",
   "metadata": {},
   "source": [
    "Great. I hope you liked this session. The topic is quite easy as you probably has already seen the same code in many demos. What is innovative here is the entire code sketching experience inside a Polyglot Notebook. The takeaway of the session is the fact that you can move lot of you experimentation inside a Polyglot Notebook, because it is just .NET or commandline code. Obviously just to simplify with what you have seen here, but you can extend with all the possibilities, like multiple kernels, of .NET Interactive."
   ]
  },
  {
   "attachments": {},
   "cell_type": "markdown",
   "id": "752baa4a",
   "metadata": {},
   "source": [
    "You can find the code of this session on my GitHub account repo, https://github.com/marcoparenzan/awesomepolyglotnotebooks. And see you in another video! Ciao!"
   ]
  },
  {
   "cell_type": "code",
   "execution_count": 1,
   "metadata": {
    "dotnet_interactive": {
     "language": "html"
    },
    "polyglot_notebook": {
     "kernelName": "html"
    },
    "vscode": {
     "languageId": "polyglot-notebook"
    }
   },
   "outputs": [
    {
     "data": {
      "text/html": [
       "<img src=\"Slides\\slide2.png\"/>"
      ]
     },
     "metadata": {},
     "output_type": "display_data"
    }
   ],
   "source": [
    "<img src=\"https://github.com/marcoparenzan/AwesomePolyglotNotebooks/blob/main/notebooks/Writing%20Azure%20and%20IoT%20code%20inside%20Polyglot%20Notebooks/Slides/Slide2.PNG\"/>"
   ]
  }
 ],
 "metadata": {
  "kernelInfo": {
   "defaultKernelName": null,
   "items": [
    {
     "aliases": [
      "c#",
      "cs"
     ],
     "languageName": "C#",
     "name": "csharp"
    },
    {
     "aliases": [
      "f#",
      "fs"
     ],
     "languageName": "F#",
     "name": "fsharp"
    },
    {
     "aliases": [
      "powershell"
     ],
     "languageName": "PowerShell",
     "name": "pwsh"
    },
    {
     "aliases": [
      "js"
     ],
     "languageName": "JavaScript",
     "name": "javascript"
    },
    {
     "languageName": "HTML",
     "name": "html"
    },
    {
     "languageName": "SQL",
     "name": "sql"
    },
    {
     "languageName": "KQL",
     "name": "kql"
    },
    {
     "languageName": "Mermaid",
     "name": "mermaid"
    },
    {
     "languageName": "HTTP",
     "name": "http"
    },
    {
     "name": "value"
    }
   ]
  },
  "language_info": {
   "name": "python"
  },
  "polyglot_notebook": {
   "kernelInfo": {
    "defaultKernelName": "csharp",
    "items": [
     {
      "aliases": [],
      "languageName": "csharp",
      "name": "csharp"
     }
    ]
   }
  }
 },
 "nbformat": 4,
 "nbformat_minor": 5
}
